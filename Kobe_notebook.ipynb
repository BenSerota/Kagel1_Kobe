{
 "cells": [
  {
   "cell_type": "markdown",
   "metadata": {},
   "source": [
    "# Kobe Bryant Shot Selection\n",
    "Aviv Dotan and Ben Serota\n",
    "\n",
    "\n",
    "## Pre-proccessing\n",
    "Imports"
   ]
  },
  {
   "cell_type": "code",
   "execution_count": null,
   "metadata": {
    "collapsed": true
   },
   "outputs": [],
   "source": [
    "import os\n",
    "import pandas as pd\n",
    "import numpy as np\n",
    "from sklearn.feature_selection import RFE\n",
    "from sklearn.model_selection import cross_val_score\n",
    "from sklearn.discriminant_analysis import LinearDiscriminantAnalysis\n",
    "from sklearn.linear_model import LogisticRegression\n",
    "from sklearn.tree import DecisionTreeRegressor, export_graphviz\n",
    "import matplotlib.pyplot as plt\n",
    "import graphviz\n",
    "from matplotlib.patches import Circle, Rectangle, Arc\n",
    "\n",
    "# Suppress warnings\n",
    "pd.options.mode.chained_assignment = None  # default='warn'"
   ]
  },
  {
   "cell_type": "markdown",
   "metadata": {},
   "source": [
    "Define the input and output files' names and locations"
   ]
  },
  {
   "cell_type": "code",
   "execution_count": null,
   "metadata": {
    "collapsed": true
   },
   "outputs": [],
   "source": [
    "# Files definitions\n",
    "datadir = 'Data'\n",
    "datafilename = os.path.join(datadir, 'data.csv')\n",
    "resultsfilename = os.path.join(datadir, 'results.csv')\n",
    "fullresultsfilename = os.path.join(datadir, 'results_full.csv')"
   ]
  },
  {
   "cell_type": "markdown",
   "metadata": {},
   "source": [
    "Load the data and sort it chronologically"
   ]
  },
  {
   "cell_type": "code",
   "execution_count": null,
   "metadata": {
    "collapsed": true
   },
   "outputs": [],
   "source": [
    "# Load data\n",
    "rawdata = pd.read_csv(datafilename)\n",
    "\n",
    "# Sort chronologically and redefine the index (for leakage handling)\n",
    "rawdata['date'] = pd.to_datetime(rawdata['game_date'])\n",
    "rawdata.sort_values(['date', 'game_event_id'],\n",
    "                    ascending = True, inplace = True)\n",
    "rawdata.drop('date', axis = 1, inplace = True)\n",
    "rawdata['index'] = range(len(rawdata))\n",
    "rawdata.set_index('index', drop = True, inplace = True)\n"
   ]
  },
  {
   "cell_type": "markdown",
   "metadata": {},
   "source": [
    "Define variables' types"
   ]
  },
  {
   "cell_type": "code",
   "execution_count": null,
   "metadata": {
    "collapsed": true
   },
   "outputs": [],
   "source": [
    "# Define variables definitions\n",
    "\n",
    "# Categorical variables\n",
    "cat_vars = ['action_type', 'combined_shot_type', 'period', 'season',\n",
    "            'shot_type', 'shot_zone_area', 'shot_zone_basic',\n",
    "            'shot_zone_range', 'opponent']\n",
    "\n",
    "# Irrelevant variables\n",
    "drop_vars = ['game_id', 'lat', 'lon', 'team_id',\n",
    "             'team_name', 'matchup']\n",
    "\n",
    "# Date variables\n",
    "date_vars = ['game_date']\n",
    "\n",
    "# Output variable\n",
    "pred_var = 'shot_made_flag'\n",
    "\n",
    "# Prediction's columns\n",
    "pred_cols = ['shot_id', 'shot_made_flag']"
   ]
  },
  {
   "cell_type": "markdown",
   "metadata": {},
   "source": [
    "Generate new variables"
   ]
  },
  {
   "cell_type": "code",
   "execution_count": null,
   "metadata": {
    "collapsed": true
   },
   "outputs": [],
   "source": [
    "# new variables\n",
    "\n",
    "# home or not?\n",
    "rawdata['home'] = rawdata['matchup'].apply(\n",
    "\t\tlambda x: 1 if (x.find('@') < 0) else 0)\n",
    "\n",
    "rawdata['seconds_from_period_end'] = 60*rawdata['minutes_remaining'] +\\\n",
    "                                     rawdata['seconds_remaining']\n",
    "rawdata['seconds_from_period_start'] = 60*(11 - rawdata['minutes_remaining']) +\\\n",
    "                                       (60 - rawdata['seconds_remaining'])\n",
    "rawdata['seconds_from_game_start'] = (rawdata['period'] <= 4).astype(int) *\\\n",
    "                                     (rawdata['period']-1)*12*60 +\\\n",
    "                                     (rawdata['period'] > 4).astype(int) *\\\n",
    "                                     ((rawdata['period']-4)*5*60 + 3*12*60) +\\\n",
    "                                     rawdata['seconds_from_period_start']\n",
    "rawdata['period_last_5_seconds'] = (rawdata['seconds_from_period_end'] < 6).\\\n",
    "\tastype(int)\n",
    "rawdata['game_last_5_seconds'] = rawdata['period_last_5_seconds'] *\\\n",
    "                                 (rawdata['period'] > 3).astype(int)\n",
    "rawdata['angle'] = np.arctan2(rawdata['loc_x'], rawdata['loc_y'])\n"
   ]
  },
  {
   "cell_type": "markdown",
   "metadata": {},
   "source": [
    "Handle date and categorical variables"
   ]
  },
  {
   "cell_type": "code",
   "execution_count": null,
   "metadata": {
    "collapsed": true
   },
   "outputs": [],
   "source": [
    "for var in date_vars:\n",
    "\t# Convert the date variable to month, week no. and week day, and treat\n",
    "\t# them as categorical features\n",
    "\tdatevar = pd.to_datetime(rawdata[var], format = \"%Y-%m-%d\")\n",
    "\trawdata[var + '_month'] = datevar.dt.month\n",
    "\trawdata[var + '_month_x'] = np.sin(2 * np.pi * rawdata[var + '_month'] / 12)\n",
    "\trawdata[var + '_month_y'] = np.cos(2 * np.pi * rawdata[var + '_month'] / 12)\n",
    "\tcat_vars.append(var + '_month')\n",
    "\trawdata[var + '_weekday'] = datevar.dt.dayofweek\n",
    "\trawdata[var + '_weekday_x'] = np.sin(\n",
    "\t\t\t2 * np.pi * rawdata[var + '_weekday'] / 7)\n",
    "\trawdata[var + '_weekday_y'] = np.cos(\n",
    "\t\t2 * np.pi * rawdata[var + '_weekday'] / 7)\n",
    "\tcat_vars.append(var + '_weekday')\n",
    "\n",
    "for var in cat_vars:\n",
    "\t# Replace the categorical feature with N binary features\n",
    "\tcat_list = pd.get_dummies(rawdata[var], prefix = var, prefix_sep = ': ')\n",
    "\tdata1 = rawdata.join(cat_list)  # adds data columns to data\n",
    "\trawdata = data1"
   ]
  },
  {
   "cell_type": "markdown",
   "metadata": {},
   "source": [
    "Filter only relevant variables and split data columns"
   ]
  },
  {
   "cell_type": "code",
   "execution_count": null,
   "metadata": {
    "collapsed": true
   },
   "outputs": [],
   "source": [
    "data_vars = rawdata.columns.values.tolist()\n",
    "to_keep = [i for i in data_vars if (i not in cat_vars and\n",
    "                                    i not in drop_vars and\n",
    "                                    i not in date_vars)]\n",
    "rawdata = rawdata[to_keep]  # generating a new dataset, overriding old one.\n",
    "\n",
    "X_cols = [i for i in rawdata.columns if i not in pred_var]  # predict by cols\n",
    "Y_cols = [pred_var]"
   ]
  },
  {
   "cell_type": "markdown",
   "metadata": {},
   "source": [
    "## Prepare the training and evaluation data\n",
    "Split the data into training and evaluation sets"
   ]
  },
  {
   "cell_type": "code",
   "execution_count": null,
   "metadata": {
    "collapsed": true
   },
   "outputs": [],
   "source": [
    "# Split data\n",
    "test_rows = pd.isnull(rawdata[pred_var])    # gives indices of rows to predict\n",
    "traindata = rawdata[~test_rows]\n",
    "evaldata = rawdata[test_rows]\n",
    "\n",
    "# Prepare the training data\n",
    "X0 = traindata[X_cols]\n",
    "Y0 = np.ravel(traindata[Y_cols])"
   ]
  },
  {
   "cell_type": "markdown",
   "metadata": {},
   "source": [
    "## Features selection\n",
    "Plot the features' rankings according to Recursive Feature Elimination"
   ]
  },
  {
   "cell_type": "code",
   "execution_count": null,
   "metadata": {},
   "outputs": [],
   "source": [
    "# Plot RFE rankings\n",
    "lr = LogisticRegression()\n",
    "rfe = RFE(lr, 1)\n",
    "rfe = rfe.fit(X0, Y0)\n",
    "feature_df = pd.DataFrame(rfe.ranking_, index = X_cols, columns = [\"ranking\"])\n",
    "feature_df.sort_values(\"ranking\", inplace = True)\n",
    "feature_df = feature_df.head(20)\n",
    "plt.figure()\n",
    "x_axis = np.arange(len(feature_df))\n",
    "plt.bar(x_axis, feature_df[\"ranking\"])\n",
    "plt.xticks(x_axis, feature_df.index, rotation = 'vertical')\n",
    "plt.xlabel(\"Feature\")\n",
    "plt.ylabel(\"RFE Ranking\")\n",
    "plt.show()"
   ]
  },
  {
   "cell_type": "markdown",
   "metadata": {},
   "source": [
    "Use Recursive Feature Elimination to find the most important 10 features"
   ]
  },
  {
   "cell_type": "code",
   "execution_count": null,
   "metadata": {},
   "outputs": [],
   "source": [
    "# Choose a subset of features by recursive features elimination\n",
    "lr = LogisticRegression()\n",
    "n_features = 10\n",
    "rfe = RFE(lr, n_features)  # chooses the best N features from which to do LR\n",
    "rfe.fit(X0, Y0)\n",
    "X_cols_rfe = [X_cols[i] for i in range(len(X_cols)) if rfe.get_support()[i]]\n",
    "print('RFE chosen features: ', X_cols_rfe)\n",
    "print(len(X_cols_rfe))"
   ]
  },
  {
   "cell_type": "markdown",
   "metadata": {},
   "source": [
    "Use LDA to find the optimal projection of the data to 1D"
   ]
  },
  {
   "cell_type": "code",
   "execution_count": null,
   "metadata": {},
   "outputs": [],
   "source": [
    "# LDA\n",
    "lda = LinearDiscriminantAnalysis()\n",
    "lda.fit(X0, Y0)\n",
    "X0_lda = lda.transform(X0)"
   ]
  },
  {
   "cell_type": "markdown",
   "metadata": {},
   "source": [
    "Build a regression tree"
   ]
  },
  {
   "cell_type": "code",
   "execution_count": null,
   "metadata": {
    "collapsed": true
   },
   "outputs": [],
   "source": [
    "# Regression tree\n",
    "dtr_mid = 0.005\n",
    "dtr = DecisionTreeRegressor(min_impurity_decrease = dtr_mid)\n",
    "dtr.fit(X0, Y0)\n",
    "X0_dtr = dtr.predict(X0)"
   ]
  },
  {
   "cell_type": "markdown",
   "metadata": {},
   "source": [
    "Visualize the regression tree"
   ]
  },
  {
   "cell_type": "code",
   "execution_count": null,
   "metadata": {},
   "outputs": [],
   "source": [
    "# Plot Regression Tree features' importances\n",
    "feature_df = pd.DataFrame(dtr.feature_importances_,\n",
    "                          index = X_cols,\n",
    "                          columns = [\"importance\"])\n",
    "feature_df.sort_values(\"importance\", ascending = False, inplace = True)\n",
    "feature_df = feature_df.head(10)\n",
    "plt.figure()\n",
    "x_axis = np.arange(len(feature_df))\n",
    "plt.bar(x_axis, feature_df[\"importance\"])\n",
    "plt.xticks(x_axis, feature_df.index, rotation = 'vertical')\n",
    "plt.xlabel(\"Feature\")\n",
    "plt.ylabel(\"Regression Tree's Gini Index\")\n",
    "plt.show()\n",
    "dot_data = export_graphviz(dtr, out_file = None, feature_names = X_cols,\n",
    "                           filled = True, rounded = True,\n",
    "                           special_characters = True)\n",
    "graph = graphviz.Source(dot_data, format = 'png')\n",
    "graph"
   ]
  },
  {
   "cell_type": "markdown",
   "metadata": {},
   "source": [
    "Filter the features found by RFE, and add the LDA projection and the regression tree's prediction as additional features"
   ]
  },
  {
   "cell_type": "code",
   "execution_count": null,
   "metadata": {},
   "outputs": [],
   "source": [
    "# Filter columns\n",
    "# unique is just to not calculate one param multiple times\n",
    "X_cols_f = X_cols_rfe\n",
    "print('Final chosen features: ', X_cols_f)\n",
    "print(len(X_cols_f))\n",
    "X0 = X0[X_cols_f]\n",
    "X0.loc[:, 'LDA'] = X0_lda\t\t# adding value of a single LDA dim\n",
    "X0.loc[:, 'DTR'] = X0_dtr       # adding value of DTR prediction"
   ]
  },
  {
   "cell_type": "markdown",
   "metadata": {},
   "source": [
    "## Build the model and test it\n",
    "Use logistic regression for prediction, and display the cross-validation score"
   ]
  },
  {
   "cell_type": "code",
   "execution_count": null,
   "metadata": {},
   "outputs": [],
   "source": [
    "# Test the model\n",
    "lr = LogisticRegression()\n",
    "scores = -cross_val_score(lr, X0, Y0, cv = 10, scoring = 'neg_log_loss')\n",
    "print('CV log-loss: ', np.mean(scores), '+/-', np.std(scores))"
   ]
  },
  {
   "cell_type": "markdown",
   "metadata": {},
   "source": [
    "## Generate predictions\n",
    "Use quick_test = False to handle leakage correctly"
   ]
  },
  {
   "cell_type": "code",
   "execution_count": null,
   "metadata": {},
   "outputs": [],
   "source": [
    "# Set this to True to ignore leakage and get a faster code\n",
    "quick_test = False\n",
    "\n",
    "# For test only - Leakage problem\n",
    "if quick_test: \t# (with leakage, quick and dirty)\n",
    "\t\n",
    "\t# Fit the model\n",
    "\tlr = LogisticRegression()\n",
    "\tlr.fit(X0, Y0)  # trains on training data. Here the flesh lies.\n",
    "\t\n",
    "\t# Generate the model's prediction\n",
    "\tXlda = lda.transform(evaldata[X_cols])\n",
    "\tXdtr = dtr.predict(evaldata[X_cols])\n",
    "\tX = evaldata[X_cols_f]\n",
    "\tX.loc[:, 'LDA'] = Xlda\n",
    "\tX.loc[:, 'DTR'] = Xdtr\n",
    "\tY = lr.predict_proba(X)  # without _proba , this would have given 0/1\n",
    "\tevaldata.loc[:, pred_var] = Y[:, 1]\n",
    "\n",
    "# Leakage handle\n",
    "else:\t\t# without leakage\n",
    "\t\n",
    "\tc = 0\n",
    "\tC = len(evaldata)\n",
    "\tfor t in evaldata.index:\n",
    "\t\t\n",
    "\t\t# Filter only past data\n",
    "\t\tind = traindata.index\n",
    "\t\tind_t = ind[ind < t]\n",
    "\t\tif len(ind_t) == 0:\t\t# if row picked is first\n",
    "\t\t\tevaldata.loc[t, pred_var] = 0.5     # For the first shot, just guess\n",
    "\t\t\tcontinue\n",
    "\t\tXt = traindata.loc[ind_t, X_cols_f]\n",
    "\t\tYt = np.ravel(traindata.loc[ind_t, Y_cols])\n",
    "\t\t\n",
    "\t\t# Fit the model\n",
    "\t\tlda = LinearDiscriminantAnalysis()\n",
    "\t\tlda.fit(traindata.loc[ind_t, X_cols], Yt)\n",
    "\t\tXt.loc[:, 'LDA'] = lda.transform(traindata.loc[ind_t, X_cols])\n",
    "\t\tdtr = DecisionTreeRegressor(min_impurity_decrease = dtr_mid)\n",
    "\t\tdtr.fit(traindata.loc[ind_t, X_cols], Yt)\n",
    "\t\tXt.loc[:, 'DTR'] = dtr.predict(traindata.loc[ind_t, X_cols])\n",
    "\t\tlr = LogisticRegression()\n",
    "\t\tlr.fit(Xt, Yt)  # trains on training data. Here the flesh lies.\n",
    "\n",
    "\t\t# Generate the model's prediction\n",
    "\t\tX = evaldata.loc[[t], X_cols_f]\n",
    "\t\t# using the LDA axis found, generate and add \"LDA value\"\n",
    "\t\tX.loc[:, 'LDA'] = lda.transform(evaldata.loc[[t], X_cols])\n",
    "\t\tX.loc[:, 'DTR'] = dtr.predict(evaldata.loc[[t], X_cols])\n",
    "\t\tY = lr.predict_proba(X)     # without _proba , this would have given 0/1\n",
    "\t\tevaldata.loc[t, pred_var] = Y[0, 1]\n",
    "\t\t\n",
    "\t\t# Display progress\n",
    "\t\tc = c + 1\n",
    "\t\tprint(t, ': ', c, '/', C)"
   ]
  },
  {
   "cell_type": "markdown",
   "metadata": {},
   "source": [
    "Save the results"
   ]
  },
  {
   "cell_type": "code",
   "execution_count": null,
   "metadata": {
    "collapsed": true
   },
   "outputs": [],
   "source": [
    "# For future plots\n",
    "evaldata.to_csv(fullresultsfilename, header = True, index = False)\n",
    "\n",
    "# what we hand-in as output\n",
    "preddata = evaldata[pred_cols]\n",
    "preddata.to_csv(resultsfilename, header = True, index = False)"
   ]
  },
  {
   "cell_type": "markdown",
   "metadata": {},
   "source": [
    "## Plot results"
   ]
  },
  {
   "cell_type": "code",
   "execution_count": null,
   "metadata": {},
   "outputs": [],
   "source": [
    "# defining court drawings:\n",
    "def draw_court(ax = None, color = 'black', lw = 2, outer_lines = False):\n",
    "\t# If an axes object isn't provided to plot onto, just get current one\n",
    "\tif ax is None:\n",
    "\t\tax = plt.gca()\n",
    "\t\n",
    "\t# Create the various parts of an NBA basketball court\n",
    "\t\n",
    "\t# Create the basketball hoop\n",
    "\t# Diameter of a hoop is 18\" so it has a radius of 9\", which is a value\n",
    "\t# 7.5 in our coordinate system\n",
    "\thoop = Circle((0, 0), radius = 7.5, linewidth = lw, color = color,\n",
    "\t              fill = False)\n",
    "\t\n",
    "\t# Create backboard\n",
    "\tbackboard = Rectangle((-30, -7.5), 60, -1, linewidth = lw, color = color)\n",
    "\t\n",
    "\t# The paint\n",
    "\t# Create the outer box 0f the paint, width=16ft, height=19ft\n",
    "\touter_box = Rectangle((-80, -47.5), 160, 190, linewidth = lw, color =\n",
    "\tcolor,\n",
    "\t                      fill = False)\n",
    "\t# Create the inner box of the paint, widt=12ft, height=19ft\n",
    "\tinner_box = Rectangle((-60, -47.5), 120, 190, linewidth = lw, color =\n",
    "\tcolor,\n",
    "\t                      fill = False)\n",
    "\t\n",
    "\t# Create free throw top arc\n",
    "\ttop_free_throw = Arc((0, 142.5), 120, 120, theta1 = 0, theta2 = 180,\n",
    "\t                     linewidth = lw, color = color, fill = False)\n",
    "\t# Create free throw bottom arc\n",
    "\tbottom_free_throw = Arc((0, 142.5), 120, 120, theta1 = 180, theta2 = 0,\n",
    "\t                        linewidth = lw, color = color, linestyle =\n",
    "\t                        'dashed')\n",
    "\t# Restricted Zone, it is an arc with 4ft radius from center of the hoop\n",
    "\trestricted = Arc((0, 0), 80, 80, theta1 = 0, theta2 = 180, linewidth = lw,\n",
    "\t                 color = color)\n",
    "\t\n",
    "\t# Three point line\n",
    "\t# Create the side 3pt lines, they are 14ft long before they begin to arc\n",
    "\tcorner_three_a = Rectangle((-220, -47.5), 0, 140, linewidth = lw,\n",
    "\t                           color = color)\n",
    "\tcorner_three_b = Rectangle((220, -47.5), 0, 140, linewidth = lw,\n",
    "\t                           color = color)\n",
    "\t# 3pt arc - center of arc will be the hoop, arc is 23'9\" away from hoop\n",
    "\t# I just played around with the theta values until they lined up with the\n",
    "\t# threes\n",
    "\tthree_arc = Arc((0, 0), 475, 475, theta1 = 22, theta2 = 158, linewidth =\n",
    "\tlw,\n",
    "\t                color = color)\n",
    "\t\n",
    "\t# Center Court\n",
    "\tcenter_outer_arc = Arc((0, 422.5), 120, 120, theta1 = 180, theta2 = 0,\n",
    "\t                       linewidth = lw, color = color)\n",
    "\tcenter_inner_arc = Arc((0, 422.5), 40, 40, theta1 = 180, theta2 = 0,\n",
    "\t                       linewidth = lw, color = color)\n",
    "\t\n",
    "\t# List of the court elements to be plotted onto the axes\n",
    "\tcourt_elements = [hoop, backboard, outer_box, inner_box, top_free_throw,\n",
    "\t                  bottom_free_throw, restricted, corner_three_a,\n",
    "\t                  corner_three_b, three_arc, center_outer_arc,\n",
    "\t                  center_inner_arc]\n",
    "\t\n",
    "\tif outer_lines:\n",
    "\t\t# Draw the half court line, baseline and side out bound lines\n",
    "\t\touter_lines = Rectangle((-250, -47.5), 500, 470, linewidth = lw,\n",
    "\t\t                        color = color, fill = False)\n",
    "\t\tcourt_elements.append(outer_lines)\n",
    "\t\n",
    "\t# Add the court elements onto the axes\n",
    "\tfor element in court_elements:\n",
    "\t\tax.add_patch(element)\n",
    "\t\n",
    "\treturn ax\n",
    "\n",
    "# scatter shots\n",
    "plt.figure()\n",
    "draw_court(outer_lines = True)\n",
    "plt.ylim(-60, 440)\n",
    "plt.xlim(270, -270)\n",
    "plt.title('Prediction for test-shots by location')\n",
    "cm = plt.cm.get_cmap('RdYlBu')\n",
    "sc = plt.scatter(x = evaldata['loc_x'], y = evaldata['loc_y'],\n",
    "                 c = evaldata['shot_made_flag'], s = 5, cmap = cm, alpha = 1)\n",
    "plt.colorbar(sc)\n",
    "\n",
    "plt.show()"
   ]
  }
 ],
 "metadata": {
  "kernelspec": {
   "display_name": "Python 3",
   "language": "python",
   "name": "python3"
  },
  "language_info": {
   "codemirror_mode": {
    "name": "ipython",
    "version": 3
   },
   "file_extension": ".py",
   "mimetype": "text/x-python",
   "name": "python",
   "nbconvert_exporter": "python",
   "pygments_lexer": "ipython3",
   "version": "3.6.1"
  }
 },
 "nbformat": 4,
 "nbformat_minor": 2
}
